import os
import random
import numpy as np
import matplotlib.pyplot as plt
from tensorflow.keras.preprocessing import image
from tensorflow.keras.models import load_model

# Load the trained CNN model
model = load_model('/content/emotion_recognition_model.h5')  # Load your trained model file

# Define emotions mapping
emotions_mapping = {
    0: 'Happy',
    1: 'Sad',
    2: 'Neutral',
    3: 'Weeping',
    4: 'Other'
}

# Path to the 'images' folder containing human face images
images_dir = '/content/drive/MyDrive/image recognition'

# Get a list of image paths
image_paths = []
for root, dirs, files in os.walk(images_dir):
    for file in files:
        if file.endswith('.jpg') or file.endswith('.png'):
            image_paths.append(os.path.join(root, file))

# Select a random image from the dataset
random_image_path = random.choice(image_paths)

# Function to preprocess and classify emotions
def classify_emotion(img_path):
    img = image.load_img(img_path, target_size=(150, 150))
    x = image.img_to_array(img)
    x = np.expand_dims(x, axis=0)
    x = x / 255.0  # Normalize pixel values
    prediction = model.predict(x)
    predicted_class = np.argmax(prediction)
    emotion = emotions_mapping[predicted_class]
    return img, emotion

# Classify emotion for the random image
random_image, predicted_emotion = classify_emotion(random_image_path)

# Display the random image and its predicted emotion
plt.imshow(random_image)
plt.title(f'Predicted Emotion: {predicted_emotion}')
plt.axis('off')
plt.show()
